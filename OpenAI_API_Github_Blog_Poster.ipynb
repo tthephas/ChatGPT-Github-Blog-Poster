{
 "cells": [
  {
   "cell_type": "code",
   "execution_count": 1,
   "id": "d0bb5e4f",
   "metadata": {},
   "outputs": [],
   "source": [
    "import os\n",
    "import openai"
   ]
  },
  {
   "cell_type": "code",
   "execution_count": 2,
   "id": "344d4c11",
   "metadata": {},
   "outputs": [
    {
     "name": "stdout",
     "output_type": "stream",
     "text": [
      "Requirement already satisfied: openai in ./opt/anaconda3/lib/python3.8/site-packages (0.27.4)\n",
      "Requirement already satisfied: aiohttp in ./opt/anaconda3/lib/python3.8/site-packages (from openai) (3.8.4)\n",
      "Requirement already satisfied: tqdm in ./opt/anaconda3/lib/python3.8/site-packages (from openai) (4.62.3)\n",
      "Requirement already satisfied: requests>=2.20 in ./opt/anaconda3/lib/python3.8/site-packages (from openai) (2.26.0)\n",
      "Requirement already satisfied: idna<4,>=2.5 in ./opt/anaconda3/lib/python3.8/site-packages (from requests>=2.20->openai) (3.3)\n",
      "Requirement already satisfied: certifi>=2017.4.17 in ./opt/anaconda3/lib/python3.8/site-packages (from requests>=2.20->openai) (2021.10.8)\n",
      "Requirement already satisfied: urllib3<1.27,>=1.21.1 in ./opt/anaconda3/lib/python3.8/site-packages (from requests>=2.20->openai) (1.26.7)\n",
      "Requirement already satisfied: charset-normalizer~=2.0.0 in ./opt/anaconda3/lib/python3.8/site-packages (from requests>=2.20->openai) (2.0.7)\n",
      "Requirement already satisfied: attrs>=17.3.0 in ./opt/anaconda3/lib/python3.8/site-packages (from aiohttp->openai) (20.3.0)\n",
      "Requirement already satisfied: frozenlist>=1.1.1 in ./opt/anaconda3/lib/python3.8/site-packages (from aiohttp->openai) (1.3.3)\n",
      "Requirement already satisfied: aiosignal>=1.1.2 in ./opt/anaconda3/lib/python3.8/site-packages (from aiohttp->openai) (1.3.1)\n",
      "Requirement already satisfied: multidict<7.0,>=4.5 in ./opt/anaconda3/lib/python3.8/site-packages (from aiohttp->openai) (6.0.4)\n",
      "Requirement already satisfied: async-timeout<5.0,>=4.0.0a3 in ./opt/anaconda3/lib/python3.8/site-packages (from aiohttp->openai) (4.0.2)\n",
      "Requirement already satisfied: yarl<2.0,>=1.0 in ./opt/anaconda3/lib/python3.8/site-packages (from aiohttp->openai) (1.8.2)\n"
     ]
    }
   ],
   "source": [
    "!pip install openai"
   ]
  },
  {
   "cell_type": "code",
   "execution_count": 4,
   "id": "e27eeee3",
   "metadata": {},
   "outputs": [],
   "source": [
    "openai.api_key = os.getenv('OPENAI_API_KEY')"
   ]
  },
  {
   "cell_type": "code",
   "execution_count": 5,
   "id": "a62204b6",
   "metadata": {},
   "outputs": [
    {
     "data": {
      "text/plain": [
       "{'TERM_PROGRAM': 'Apple_Terminal',\n",
       " 'TERM': 'xterm-color',\n",
       " 'SHELL': '/bin/zsh',\n",
       " 'TMPDIR': '/var/folders/7d/zmvddj4x3_g38kcblzy5bqkw0000gn/T/',\n",
       " 'CONDA_SHLVL': '1',\n",
       " 'TERM_PROGRAM_VERSION': '447',\n",
       " 'CONDA_PROMPT_MODIFIER': '(base) ',\n",
       " 'TERM_SESSION_ID': 'CD9BBB5D-B727-4A6C-969E-8A363F687AC4',\n",
       " 'USER': 'thomasthephasdin',\n",
       " 'CONDA_EXE': '/Users/thomasthephasdin/opt/anaconda3/bin/conda',\n",
       " 'SSH_AUTH_SOCK': '/private/tmp/com.apple.launchd.yFYA5pRj02/Listeners',\n",
       " '_CE_CONDA': '',\n",
       " 'PATH': '/opt/local/bin:/opt/local/sbin:/Users/thomasthephasdin/opt/anaconda3/bin:/Users/thomasthephasdin/opt/anaconda3/condabin:/Library/Frameworks/Python.framework/Versions/3.10/bin:/Library/Frameworks/Python.framework/Versions/3.10/bin:/usr/local/bin:/System/Cryptexes/App/usr/bin:/usr/bin:/bin:/usr/sbin:/sbin:/usr/local/share/dotnet:~/.dotnet/tools:/Library/Apple/usr/bin:/var/run/com.apple.security.cryptexd/codex.system/bootstrap/usr/local/bin:/var/run/com.apple.security.cryptexd/codex.system/bootstrap/usr/bin:/var/run/com.apple.security.cryptexd/codex.system/bootstrap/usr/appleinternal/bin',\n",
       " 'LaunchInstanceID': '88987A01-7592-48A6-B0F1-6DD3B20521D6',\n",
       " '__CFBundleIdentifier': 'com.apple.Terminal',\n",
       " 'CONDA_PREFIX': '/Users/thomasthephasdin/opt/anaconda3',\n",
       " 'PWD': '/Users/thomasthephasdin',\n",
       " 'LANG': 'en_US.UTF-8',\n",
       " 'XPC_FLAGS': '0x0',\n",
       " 'XPC_SERVICE_NAME': '0',\n",
       " '_CE_M': '',\n",
       " 'HOME': '/Users/thomasthephasdin',\n",
       " 'SHLVL': '2',\n",
       " 'LOGNAME': 'thomasthephasdin',\n",
       " 'CONDA_PYTHON_EXE': '/Users/thomasthephasdin/opt/anaconda3/bin/python',\n",
       " 'CONDA_DEFAULT_ENV': 'base',\n",
       " 'SECURITYSESSIONID': '186a6',\n",
       " '_': '/Users/thomasthephasdin/opt/anaconda3/bin/jupyter-notebook',\n",
       " 'JPY_PARENT_PID': '5883',\n",
       " 'CLICOLOR': '1',\n",
       " 'PAGER': 'cat',\n",
       " 'GIT_PAGER': 'cat',\n",
       " 'MPLBACKEND': 'module://ipykernel.pylab.backend_inline',\n",
       " 'OPENAI_API_KEY': '<hidden>'}"
      ]
     },
     "execution_count": 5,
     "metadata": {},
     "output_type": "execute_result"
    }
   ],
   "source": [
    "%env"
   ]
  },
  {
   "cell_type": "code",
   "execution_count": 6,
   "id": "47a04c7b",
   "metadata": {},
   "outputs": [
    {
     "name": "stdout",
     "output_type": "stream",
     "text": [
      "Requirement already satisfied: GitPython in ./opt/anaconda3/lib/python3.8/site-packages (3.1.31)\r\n",
      "Requirement already satisfied: gitdb<5,>=4.0.1 in ./opt/anaconda3/lib/python3.8/site-packages (from GitPython) (4.0.10)\r\n",
      "Requirement already satisfied: smmap<6,>=3.0.1 in ./opt/anaconda3/lib/python3.8/site-packages (from gitdb<5,>=4.0.1->GitPython) (5.0.0)\r\n"
     ]
    }
   ],
   "source": [
    "!pip install GitPython"
   ]
  },
  {
   "cell_type": "code",
   "execution_count": 7,
   "id": "5a01c05e",
   "metadata": {},
   "outputs": [],
   "source": [
    "from git import Repo"
   ]
  },
  {
   "cell_type": "code",
   "execution_count": 8,
   "id": "87b9252c",
   "metadata": {},
   "outputs": [],
   "source": [
    "from pathlib import Path"
   ]
  },
  {
   "cell_type": "code",
   "execution_count": 9,
   "id": "8c2d2de2",
   "metadata": {},
   "outputs": [
    {
     "data": {
      "text/plain": [
       "'/Users/thomasthephasdin'"
      ]
     },
     "execution_count": 9,
     "metadata": {},
     "output_type": "execute_result"
    }
   ],
   "source": [
    "pwd"
   ]
  },
  {
   "cell_type": "code",
   "execution_count": 10,
   "id": "fbe1eb8e",
   "metadata": {},
   "outputs": [],
   "source": [
    "PATH_TO_BLOG_REPO = Path(\"/Users/thomasthephasdin/Desktop/Udemy_web_projects/Github_Blog_OpenAi/.git\")"
   ]
  },
  {
   "cell_type": "code",
   "execution_count": 11,
   "id": "45c43c78",
   "metadata": {},
   "outputs": [],
   "source": [
    "PATH_TO_BLOG = PATH_TO_BLOG_REPO.parent"
   ]
  },
  {
   "cell_type": "code",
   "execution_count": 12,
   "id": "a1c46fbc",
   "metadata": {},
   "outputs": [],
   "source": [
    "PATH_TO_CONTENT = PATH_TO_BLOG/\"content\""
   ]
  },
  {
   "cell_type": "code",
   "execution_count": 13,
   "id": "14da53b9",
   "metadata": {},
   "outputs": [
    {
     "data": {
      "text/plain": [
       "PosixPath('/Users/thomasthephasdin/Desktop/Udemy_web_projects/Github_Blog_OpenAi/content')"
      ]
     },
     "execution_count": 13,
     "metadata": {},
     "output_type": "execute_result"
    }
   ],
   "source": [
    "PATH_TO_CONTENT"
   ]
  },
  {
   "cell_type": "code",
   "execution_count": 14,
   "id": "1a06aed6",
   "metadata": {},
   "outputs": [],
   "source": [
    "PATH_TO_CONTENT.mkdir(exist_ok=True, parents=True)"
   ]
  },
  {
   "cell_type": "code",
   "execution_count": 15,
   "id": "b2cd090e",
   "metadata": {},
   "outputs": [],
   "source": [
    "def update_blog(commit_message='Updates blog'):\n",
    "    repo = Repo(PATH_TO_BLOG_REPO)\n",
    "#     GIT ADD\n",
    "    repo.git.add(all=True)\n",
    "#     git commit with a message\n",
    "    repo.index.commit(commit_message)\n",
    "#     git push \n",
    "    origin = repo.remote(name='origin')\n",
    "    origin.push()"
   ]
  },
  {
   "cell_type": "code",
   "execution_count": 16,
   "id": "5c592c03",
   "metadata": {},
   "outputs": [],
   "source": [
    "random_text_string = 'so random text trying to commit and update the git repo. RANDOM TEST TWO'"
   ]
  },
  {
   "cell_type": "code",
   "execution_count": 17,
   "id": "2fe07a27",
   "metadata": {},
   "outputs": [],
   "source": [
    "with open(PATH_TO_BLOG/\"index.html\", 'w') as f:\n",
    "    f.write(random_text_string)"
   ]
  },
  {
   "cell_type": "code",
   "execution_count": null,
   "id": "ca96cce2",
   "metadata": {},
   "outputs": [],
   "source": [
    "update_blog()"
   ]
  },
  {
   "cell_type": "code",
   "execution_count": null,
   "id": "c7024b3d",
   "metadata": {},
   "outputs": [],
   "source": [
    "import shutil\n",
    "\n",
    "def create_new_blog(title,content,cover_image):\n",
    "    cover_image = Path(cover_image)\n",
    "    \n",
    "    files = len(list(PATH_TO_CONTENT.glob(\"*.html\")))\n",
    "    new_title = f\"{files+1}.html\"\n",
    "    path_to_new_content = PATH_TO_CONTENT/new_title\n",
    "    \n",
    "    shutil.copy(cover_image, PATH_TO_CONTENT)\n",
    "    \n",
    "    if not os.path.exists(path_to_new_content):\n",
    "#         write new file\n",
    "        with open(path_to_new_content, \"w\") as f:\n",
    "            f.write(\"<!DOCTYPE html>\\n\")\n",
    "            f.write(\"<html>\\n\")\n",
    "            f.write(\"<head>\\n\")\n",
    "            f.write(f\"<title> {title} </title>\\n\")\n",
    "            f.write(\"</head>\\n\")\n",
    "            \n",
    "            f.write(\"<body>\\n\")\n",
    "            f.write(f\"<img src='{cover_image.name}' alt='Cover Image'> <br />\\n\")\n",
    "            f.write(f\"<h1> {title} </h1>\")\n",
    "#             open ai, ping completion engine, need to match formatting\n",
    "            f.write(content.replace(\"\\n\", \"<br />\\n\"))\n",
    "            f.write(\"</body>\\n\")\n",
    "            f.write(\"</html>\\n\")\n",
    "            print(\"Blog created\")\n",
    "            return path_to_new_content\n",
    "    else:\n",
    "        raise FileExistsError(\"File already exists, please check your name again! Aborting.\")"
   ]
  },
  {
   "cell_type": "code",
   "execution_count": null,
   "id": "8190fd35",
   "metadata": {},
   "outputs": [],
   "source": [
    "path_to_new_content = create_new_blog('Test title', 'rando string here', '/Users/thomasthephasdin/Downloads/10yr old boy 2.jpeg')"
   ]
  },
  {
   "cell_type": "code",
   "execution_count": null,
   "id": "64df930b",
   "metadata": {},
   "outputs": [],
   "source": [
    "# index page has list to all posts"
   ]
  },
  {
   "cell_type": "code",
   "execution_count": null,
   "id": "b31ee4ec",
   "metadata": {},
   "outputs": [],
   "source": [
    "!pip install bs4"
   ]
  },
  {
   "cell_type": "code",
   "execution_count": null,
   "id": "38e2dd92",
   "metadata": {},
   "outputs": [],
   "source": [
    "from bs4 import BeautifulSoup as Soup"
   ]
  },
  {
   "cell_type": "code",
   "execution_count": null,
   "id": "5ade36ce",
   "metadata": {},
   "outputs": [],
   "source": [
    "\n",
    "with open(PATH_TO_BLOG/\"index.html\") as index:\n",
    "    soup = Soup(index.read())"
   ]
  },
  {
   "cell_type": "code",
   "execution_count": null,
   "id": "fbc9439a",
   "metadata": {},
   "outputs": [],
   "source": [
    "str(soup)"
   ]
  },
  {
   "cell_type": "code",
   "execution_count": null,
   "id": "de04e0c2",
   "metadata": {},
   "outputs": [],
   "source": [
    "# check for duplicate links\n",
    "\n",
    "# write the blog post link to html"
   ]
  },
  {
   "cell_type": "code",
   "execution_count": null,
   "id": "46953673",
   "metadata": {},
   "outputs": [],
   "source": [
    "def check_for_duplicate_links(path_to_new_content, links):\n",
    "    urls = [str(link.get(\"href\")) for link in links] \n",
    "    content_path = str(Path(*path_to_new_content.parts[-2:]))\n",
    "#     path to post \n",
    "    return content_path in urls"
   ]
  },
  {
   "cell_type": "code",
   "execution_count": null,
   "id": "71834bea",
   "metadata": {},
   "outputs": [],
   "source": [
    "def write_to_index(path_to_new_content):\n",
    "    with open(PATH_TO_BLOG/'index.html') as index:\n",
    "        soup = Soup(index.read())\n",
    "        \n",
    "    links = soup.find_all('a')\n",
    "    last_link = links[-1]\n",
    "    \n",
    "    if check_for_duplicate_links(path_to_new_content,links):\n",
    "        raise ValueError(\"Link already exists!\")\n",
    "        \n",
    "    link_to_new_blog = soup.new_tag(\"a\",href=Path(*path_to_new_content.parts[-2:]))\n",
    "    link_to_new_blog.string = path_to_new_content.name.split('.')[0]\n",
    "    last_link.insert_after(link_to_new_blog)\n",
    "    \n",
    "    with open(PATH_TO_BLOG/'index.html','w') as f:\n",
    "        f.write(str(soup.prettify(formatter='html')))"
   ]
  },
  {
   "cell_type": "code",
   "execution_count": null,
   "id": "02778d49",
   "metadata": {},
   "outputs": [],
   "source": [
    "write_to_index(path_to_new_content)"
   ]
  },
  {
   "cell_type": "code",
   "execution_count": null,
   "id": "f40e1d3e",
   "metadata": {},
   "outputs": [],
   "source": [
    "update_blog()"
   ]
  },
  {
   "cell_type": "code",
   "execution_count": null,
   "id": "e8bda993",
   "metadata": {},
   "outputs": [],
   "source": [
    "def create_prompt(title):\n",
    "    prompt = \"\"\"\n",
    "    Biography:\n",
    "    My name is Josh and I am a coding bootcamp graduate.\n",
    "    \n",
    "    Blog\n",
    "    Title: {}\n",
    "    tags: technology, Python, coding, Javascript, AI\n",
    "    Summary: I build code that uses Chat GPT to do hard work\n",
    "    Full Text: \"\"\".format(title)\n",
    "    return prompt"
   ]
  },
  {
   "cell_type": "code",
   "execution_count": null,
   "id": "9c90ccd0",
   "metadata": {},
   "outputs": [],
   "source": [
    "title = \"How AI is going to change the world and Tesla will lead the way\"\n",
    "print(create_prompt(title))"
   ]
  },
  {
   "cell_type": "code",
   "execution_count": null,
   "id": "81a996ee",
   "metadata": {},
   "outputs": [],
   "source": [
    "response = openai.Completion.create(engine='text-davinci-003',\n",
    "                                   prompt=create_prompt(title),\n",
    "                                   max_tokens=1000,\n",
    "                                   temperature=0.7)"
   ]
  },
  {
   "cell_type": "code",
   "execution_count": null,
   "id": "ce5a5633",
   "metadata": {},
   "outputs": [],
   "source": [
    "blog_content = response['choices'][0]['text']"
   ]
  },
  {
   "cell_type": "code",
   "execution_count": null,
   "id": "6cafae7e",
   "metadata": {},
   "outputs": [],
   "source": [
    "print(blog_content)"
   ]
  },
  {
   "cell_type": "code",
   "execution_count": null,
   "id": "80283942",
   "metadata": {},
   "outputs": [],
   "source": [
    "def dalle2_prompt(title):\n",
    "    prompt = f\"3d clay art showing {title}\"\n",
    "    return prompt"
   ]
  },
  {
   "cell_type": "code",
   "execution_count": null,
   "id": "c9623750",
   "metadata": {},
   "outputs": [],
   "source": [
    "image_prompt = dalle2_prompt(title)"
   ]
  },
  {
   "cell_type": "code",
   "execution_count": null,
   "id": "1386a983",
   "metadata": {},
   "outputs": [],
   "source": [
    "image_prompt"
   ]
  },
  {
   "cell_type": "code",
   "execution_count": null,
   "id": "befeeefd",
   "metadata": {},
   "outputs": [],
   "source": [
    "response = openai.Image.create(prompt=image_prompt,\n",
    "                              n=1,size=\"1024x1024\")"
   ]
  },
  {
   "cell_type": "code",
   "execution_count": null,
   "id": "d52a581f",
   "metadata": {},
   "outputs": [],
   "source": [
    "image_url = response['data'][0]['url']"
   ]
  },
  {
   "cell_type": "code",
   "execution_count": null,
   "id": "315d0b72",
   "metadata": {},
   "outputs": [],
   "source": [
    "image_url\n"
   ]
  },
  {
   "cell_type": "code",
   "execution_count": null,
   "id": "9e20155f",
   "metadata": {},
   "outputs": [],
   "source": [
    "import requests\n",
    "def save_image(image_url, file_name):\n",
    "    image_res = requests.get(image_url, stream=True)\n",
    "    if image_res.status_code ==200:\n",
    "        with open(file_name, 'wb') as f:\n",
    "            shutil.copyfileobj(image_res.raw,f)\n",
    "    else:\n",
    "        print('ERROR LOADING IMAGE')\n",
    "        \n",
    "    return image_res.status_code"
   ]
  },
  {
   "cell_type": "code",
   "execution_count": null,
   "id": "7c29703c",
   "metadata": {},
   "outputs": [],
   "source": [
    "save_image(image_url,file_name='title2.png')"
   ]
  },
  {
   "cell_type": "code",
   "execution_count": null,
   "id": "c7f2d02b",
   "metadata": {},
   "outputs": [],
   "source": [
    "from PIL import Image"
   ]
  },
  {
   "cell_type": "code",
   "execution_count": null,
   "id": "604a19f8",
   "metadata": {},
   "outputs": [],
   "source": [
    "Image.open('title2.png')"
   ]
  },
  {
   "cell_type": "code",
   "execution_count": null,
   "id": "4b1efe22",
   "metadata": {},
   "outputs": [],
   "source": [
    "title"
   ]
  },
  {
   "cell_type": "code",
   "execution_count": null,
   "id": "1cceacb9",
   "metadata": {},
   "outputs": [],
   "source": [
    "blog_content"
   ]
  },
  {
   "cell_type": "code",
   "execution_count": null,
   "id": "9bc89207",
   "metadata": {},
   "outputs": [],
   "source": [
    "path_to_new_content = create_new_blog(title,blog_content,'title2.png')"
   ]
  },
  {
   "cell_type": "code",
   "execution_count": null,
   "id": "6b9d53c6",
   "metadata": {},
   "outputs": [],
   "source": [
    "write_to_index(path_to_new_content)"
   ]
  },
  {
   "cell_type": "code",
   "execution_count": null,
   "id": "1ac21882",
   "metadata": {},
   "outputs": [],
   "source": [
    "update_blog()"
   ]
  },
  {
   "cell_type": "code",
   "execution_count": null,
   "id": "8a96332f",
   "metadata": {},
   "outputs": [],
   "source": []
  }
 ],
 "metadata": {
  "kernelspec": {
   "display_name": "Python 3",
   "language": "python",
   "name": "python3"
  },
  "language_info": {
   "codemirror_mode": {
    "name": "ipython",
    "version": 3
   },
   "file_extension": ".py",
   "mimetype": "text/x-python",
   "name": "python",
   "nbconvert_exporter": "python",
   "pygments_lexer": "ipython3",
   "version": "3.8.8"
  }
 },
 "nbformat": 4,
 "nbformat_minor": 5
}
